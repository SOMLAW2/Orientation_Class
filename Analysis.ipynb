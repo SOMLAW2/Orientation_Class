{
 "cells": [
  {
   "cell_type": "code",
   "execution_count": null,
   "id": "0baf35d8",
   "metadata": {
    "vscode": {
     "languageId": "plaintext"
    }
   },
   "outputs": [],
   "source": []
  },
  {
   "cell_type": "markdown",
   "id": "ed2f302c",
   "metadata": {},
   "source": [
    "# Analysis "
   ]
  }
 ],
 "metadata": {
  "language_info": {
   "name": "python"
  }
 },
 "nbformat": 4,
 "nbformat_minor": 5
}
